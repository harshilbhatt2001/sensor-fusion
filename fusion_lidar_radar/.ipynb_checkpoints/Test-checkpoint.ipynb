{
 "cells": [
  {
   "cell_type": "code",
   "execution_count": 2,
   "metadata": {},
   "outputs": [],
   "source": [
    "from kalmanfilter import KalmanFilter\n",
    "from datapoint import DataPoint\n",
    "from fusionekf import FusionEKF\n",
    "from tools import get_RMSE\n",
    "from helpers import parse_data, print_EKF_data, get_state_estimations\n",
    "import numpy as np"
   ]
  },
  {
   "cell_type": "code",
   "execution_count": 3,
   "metadata": {},
   "outputs": [
    {
     "ename": "NameError",
     "evalue": "name 'FusionEKF' is not defined",
     "output_type": "error",
     "traceback": [
      "\u001b[1;31m---------------------------------------------------------------------------\u001b[0m",
      "\u001b[1;31mNameError\u001b[0m                                 Traceback (most recent call last)",
      "\u001b[1;32m<ipython-input-3-92a6add7f579>\u001b[0m in \u001b[0;36m<module>\u001b[1;34m\u001b[0m\n\u001b[0;32m     29\u001b[0m }\n\u001b[0;32m     30\u001b[0m \u001b[1;33m\u001b[0m\u001b[0m\n\u001b[1;32m---> 31\u001b[1;33m \u001b[0mEKF1\u001b[0m \u001b[1;33m=\u001b[0m \u001b[0mFusionEKF\u001b[0m\u001b[1;33m(\u001b[0m\u001b[0md\u001b[0m\u001b[1;33m)\u001b[0m\u001b[1;33m\u001b[0m\u001b[1;33m\u001b[0m\u001b[0m\n\u001b[0m\u001b[0;32m     32\u001b[0m \u001b[0mEKF2\u001b[0m \u001b[1;33m=\u001b[0m \u001b[0mFusionEKF\u001b[0m\u001b[1;33m(\u001b[0m\u001b[0md\u001b[0m\u001b[1;33m)\u001b[0m\u001b[1;33m\u001b[0m\u001b[1;33m\u001b[0m\u001b[0m\n",
      "\u001b[1;31mNameError\u001b[0m: name 'FusionEKF' is not defined"
     ]
    }
   ],
   "source": [
    "lidar_R = np.array([[0.01, 0],\n",
    "                    [0, 0.01]])\n",
    "\n",
    "radar_R = np.array([[0.01, 0, 0],\n",
    "                    [0, 0.000001, 0],\n",
    "                    [0, 0, 0.01]])\n",
    "\n",
    "lidar_H = np.array([[1, 0, 0, 0],\n",
    "                    [0, 1, 0, 0]])\n",
    "\n",
    "P = np.array([[1, 0, 0, 0],\n",
    "              [0, 1, 0, 0],\n",
    "              [0, 0, 1000, 0],\n",
    "              [0, 0, 0, 1000]])\n",
    "\n",
    "Q = np.zeros(4)\n",
    "F = np.eye(4)\n",
    "\n",
    "d = {\n",
    "    'number_of_states': 4, \n",
    "    'initial_process_matrix': P,\n",
    "    'radar_covariance_matrix': radar_R,\n",
    "    'lidar_covariance_matrix': lidar_R, \n",
    "    'lidar_transition_matrix': lidar_H,\n",
    "    'inital_state_transition_matrix': F,\n",
    "    'initial_noise_matrix': Q, \n",
    "    'acceleration_noise_x': 5, \n",
    "    'acceleration_noise_y': 5\n",
    "}\n",
    "\n",
    "EKF1 = FusionEKF(d)\n",
    "EKF2 = FusionEKF(d)"
   ]
  }
 ],
 "metadata": {
  "kernelspec": {
   "display_name": "Python 3",
   "language": "python",
   "name": "python3"
  },
  "language_info": {
   "codemirror_mode": {
    "name": "ipython",
    "version": 3
   },
   "file_extension": ".py",
   "mimetype": "text/x-python",
   "name": "python",
   "nbconvert_exporter": "python",
   "pygments_lexer": "ipython3",
   "version": "3.7.6"
  }
 },
 "nbformat": 4,
 "nbformat_minor": 4
}
